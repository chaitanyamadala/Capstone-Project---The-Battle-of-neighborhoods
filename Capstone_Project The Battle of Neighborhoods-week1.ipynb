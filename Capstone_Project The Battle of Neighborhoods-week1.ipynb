{
 "cells": [
  {
   "cell_type": "markdown",
   "metadata": {},
   "source": [
    "# Capstone Project - The Battle of Neighborhoods"
   ]
  },
  {
   "cell_type": "markdown",
   "metadata": {},
   "source": [
    "# Introduction\n",
    "The purpose of this Capstone Project is to help people in exploring better Indian cusines restaurants around their neighborhood\n",
    "\n",
    "### Background\n",
    "\n",
    "New York is the most populous city in the United States. Situated on one of the world's largest natural harbors, New York City is composed of five boroughs, each of which is a county of the State of New York. \n",
    "\n",
    "The five boroughs—Brooklyn, Queens, Manhattan, the Bronx, and Staten Island—were consolidated into a single city in 1898.\n",
    "As many as 800 languages are spoken in New York, making it the most linguistically diverse city in the world. \n",
    "\n",
    "New York is home to more than 3.2 million residents born outside the United States, the largest foreign-born population of any city in the world.\n",
    "\n",
    "### Problem Description\n",
    "There are many resturants in Newyork which offers wide vareity of cuisines like Indian, Chinese, French, continental etc. \n",
    "For the people who loves to explore indian cuisines in Newyork area, It is helpful to have below information readily available so that they can experience some best indian dishes.\n",
    "1. What are the various Indian cuisine based restuarant options one has, in Newyork neighborhoods\n",
    "2. Recommand with a neighborhood which has best indian restaurants\n",
    "\n",
    "This project aims at above aspects and *recommend the people with best rated indian cuisine resturants* across different neighborhoods of Newyork city.\n"
   ]
  },
  {
   "cell_type": "markdown",
   "metadata": {},
   "source": [
    "# Data"
   ]
  },
  {
   "cell_type": "markdown",
   "metadata": {},
   "source": [
    "Data collection is an important step of data pipeline. In this project, The data sources that we used to procure data are listed below.\n",
    "\n",
    "1. To realize our goal, we need to have access to data with list of boroughs, neighborhoods, location co-ordinate information like latitude and longitude values.\n",
    "\n",
    "#### Data source: https://cocl.us/new_york_dataset\n",
    "\n",
    "Newyork has a total of 5 boroughs and 306 neighborhoods. In order to segement the neighborhoods and explore them, we will essentially need a dataset that contains the 5 boroughs and the neighborhoods that exist in each borough as well as the the latitude and logitude coordinates of each neighborhood.\n",
    "\n",
    "Here all the relevant data is in the *features* key, which is basically a list of the neighborhoods.\n",
    "\n",
    "2. Location data of Indian resturants in Newyork city neighborhoods.\n",
    "\n",
    "#### Data source: Foursquare database\n",
    "Link: api.foursquare.com\n",
    "\n",
    "There are various Location data providers such as Four Square, Google places, Yelp. In this project we will use Foursquare's location data. \n",
    "\n",
    "Foursquare is a technology company that provides location data which is helpful to solve our problem. \n",
    "Location data typically consists of various information like Restaurants, schools, parks, gyms, community centres around a geo-coordinate location (longitude+latitude). \n",
    "\n",
    "We need to use Foursquare APIs to access location data and to explore the neighborhoods.\n",
    "There are two types of API calls that the company provides. i.e. regual API and premium API end points.Based on type of account, one can make 99,500 API calls per day for Regular end point and 500 calls per day for premium end point."
   ]
  }
 ],
 "metadata": {
  "kernelspec": {
   "display_name": "Python 3",
   "language": "python",
   "name": "python3"
  },
  "language_info": {
   "codemirror_mode": {
    "name": "ipython",
    "version": 3
   },
   "file_extension": ".py",
   "mimetype": "text/x-python",
   "name": "python",
   "nbconvert_exporter": "python",
   "pygments_lexer": "ipython3",
   "version": "3.7.3"
  },
  "widgets": {
   "state": {},
   "version": "1.1.2"
  }
 },
 "nbformat": 4,
 "nbformat_minor": 2
}
